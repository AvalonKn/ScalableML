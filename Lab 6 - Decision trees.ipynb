{
 "cells": [
  {
   "cell_type": "markdown",
   "metadata": {},
   "source": [
    "# Decision trees\n",
    "\n",
    "A [decision tree](https://en.wikipedia.org/wiki/Decision_tree_learning) can be thought of as a sequence of **hierarchical if-else statements** that test feature values to predict a class.\n",
    "\n",
    "\n",
    "In this notebook we will explore the use of the classification module in PySpark that implements Decision Trees classifiers. The [ml classification module](https://spark.apache.org/docs/latest/api/python/pyspark.ml.html#module-pyspark.ml.classification) in PySpark basically comes with two classes that we will use in the Notebook, namely, the *pyspark.ml.classification.DecisionTreeClassifier* and the *pyspark.ml.classification.DecisionTreeClassifierModel*.\n",
    "\n",
    "Before using pyspark.ml we are going to use [scikit-learn](https://scikit-learn.org/stable/) for Decision Trees. This first example will allow us to understand some of the parameters in a decision tree. In the second example, we will see how those parameters are defined in PySpark or what relationships.\n",
    "\n",
    "\n",
    "## Example with scikit-learn\n",
    "\n",
    "We will build a classifier that will be able to detect spam from the text in an email. The dataset that we will use is from the [UCI Machine Learning Repository](http://archive.ics.uci.edu/ml/index.php), where UCI stands for University of California Irvine. The UCI repository is and has been a valuable resource in Machine Learning. It contains datasets for classification, regression, clustering and several other machine learning problems. These datasets are open source and they have been uploaded by contributors of many research articles. \n",
    "\n",
    "The particular dataset that we will use wil be referred to is the [Spambase Dataset](http://archive.ics.uci.edu/ml/datasets/Spambase). A detailed description is the previous link. The dataset contains 57 features related to word frequency, character frequency, and others related to capital letters. The description of the features and labels in the dataset is available [here](http://archive.ics.uci.edu/ml/machine-learning-databases/spambase/spambase.names). The output label indicated whether an email was considered 'ham' or 'spam', so it is a binary label. \n",
    "\n",
    "We will use Decision tree as our predictive model. But first, we upload the data and the names of the columns"
   ]
  },
  {
   "cell_type": "code",
   "execution_count": 1,
   "metadata": {},
   "outputs": [],
   "source": [
    "import pandas as pd\n",
    "import numpy as np\n",
    "spam_data = pd.read_csv('./files/spambase.data')\n",
    "spam_names = [spam_names.rstrip('\\n') for spam_names in open('./files/spambase.data.names')]\n",
    "number_names = np.shape(spam_names)[0]\n",
    "for i in range(number_names):\n",
    "    local = spam_names[i]\n",
    "    colon_pos = local.find(':')\n",
    "    spam_names[i] = local[:colon_pos]\n",
    "spam_data.columns = spam_names\n",
    "X = spam_data.iloc[:, 0:57]\n",
    "y = spam_data.iloc[:, 57]"
   ]
  },
  {
   "cell_type": "markdown",
   "metadata": {},
   "source": [
    "We now use the whole dataset to build a decision tree classifier. "
   ]
  },
  {
   "cell_type": "code",
   "execution_count": 2,
   "metadata": {},
   "outputs": [],
   "source": [
    "from sklearn import tree\n",
    "clf = tree.DecisionTreeClassifier(criterion='entropy', max_depth=3)\n",
    "clf = clf.fit(X, y)"
   ]
  },
  {
   "cell_type": "code",
   "execution_count": 3,
   "metadata": {},
   "outputs": [
    {
     "data": {
      "text/plain": [
       "DecisionTreeClassifier(class_weight=None, criterion='entropy', max_depth=3,\n",
       "            max_features=None, max_leaf_nodes=None,\n",
       "            min_impurity_decrease=0.0, min_impurity_split=None,\n",
       "            min_samples_leaf=1, min_samples_split=2,\n",
       "            min_weight_fraction_leaf=0.0, presort=False, random_state=None,\n",
       "            splitter='best')"
      ]
     },
     "execution_count": 3,
     "metadata": {},
     "output_type": "execute_result"
    }
   ],
   "source": [
    "clf"
   ]
  },
  {
   "cell_type": "markdown",
   "metadata": {},
   "source": [
    "To visualize the tree, we can use the [Graphviz](http://www.graphviz.org/) package and use the exporter [export_graphviz](https://scikit-learn.org/stable/modules/generated/sklearn.tree.export_graphviz.html#sklearn.tree.export_graphviz). First, we need to install the package. An easy way to do it is to use `conda`\n",
    "\n",
    "`conda install python-graphviz`\n",
    "\n",
    "We will export the tree as a pdf file spam.pdf"
   ]
  },
  {
   "cell_type": "code",
   "execution_count": 4,
   "metadata": {},
   "outputs": [
    {
     "data": {
      "text/plain": [
       "'spam.pdf'"
      ]
     },
     "execution_count": 4,
     "metadata": {},
     "output_type": "execute_result"
    }
   ],
   "source": [
    "import graphviz \n",
    "dot_data = tree.export_graphviz(clf, out_file=None) \n",
    "graph = graphviz.Source(dot_data) \n",
    "graph.render(\"spam\")"
   ]
  },
  {
   "cell_type": "markdown",
   "metadata": {},
   "source": [
    "We can use the [export_graphviz](https://scikit-learn.org/stable/modules/generated/sklearn.tree.export_graphviz.html#sklearn.tree.export_graphviz) to customize several aspects of the tree. For example, if you look at the .pdf file generated, the names of the features are assigned by default by refering to the column index in `X`. It is possible to assign the names of the features directly. Likewise for the labels `y`. "
   ]
  },
  {
   "cell_type": "code",
   "execution_count": 5,
   "metadata": {},
   "outputs": [],
   "source": [
    "dot_data = tree.export_graphviz(clf, out_file=None, \n",
    "                      feature_names=spam_names[0:57],  \n",
    "                      class_names=spam_names[57],  \n",
    "                      filled=True, rounded=True,  \n",
    "                      special_characters=True)  \n",
    "graph = graphviz.Source(dot_data)  "
   ]
  },
  {
   "cell_type": "markdown",
   "metadata": {},
   "source": [
    "Instead of printing a new .pdf file, we can render the graph inline"
   ]
  },
  {
   "cell_type": "code",
   "execution_count": 6,
   "metadata": {},
   "outputs": [
    {
     "data": {
      "image/svg+xml": [
       "<?xml version=\"1.0\" encoding=\"UTF-8\" standalone=\"no\"?>\n",
       "<!DOCTYPE svg PUBLIC \"-//W3C//DTD SVG 1.1//EN\"\n",
       " \"http://www.w3.org/Graphics/SVG/1.1/DTD/svg11.dtd\">\n",
       "<!-- Generated by graphviz version 2.38.0 (20140413.2041)\n",
       " -->\n",
       "<!-- Title: Tree Pages: 1 -->\n",
       "<svg width=\"1056pt\" height=\"414pt\"\n",
       " viewBox=\"0.00 0.00 1055.80 414.00\" xmlns=\"http://www.w3.org/2000/svg\" xmlns:xlink=\"http://www.w3.org/1999/xlink\">\n",
       "<g id=\"graph0\" class=\"graph\" transform=\"scale(1 1) rotate(0) translate(4 410)\">\n",
       "<title>Tree</title>\n",
       "<polygon fill=\"white\" stroke=\"none\" points=\"-4,4 -4,-410 1051.8,-410 1051.8,4 -4,4\"/>\n",
       "<!-- 0 -->\n",
       "<g id=\"node1\" class=\"node\"><title>0</title>\n",
       "<path fill=\"#e58139\" fill-opacity=\"0.349020\" stroke=\"black\" d=\"M614.514,-406C614.514,-406 494.971,-406 494.971,-406 488.971,-406 482.971,-400 482.971,-394 482.971,-394 482.971,-340 482.971,-340 482.971,-334 488.971,-328 494.971,-328 494.971,-328 614.514,-328 614.514,-328 620.514,-328 626.514,-334 626.514,-340 626.514,-340 626.514,-394 626.514,-394 626.514,-400 620.514,-406 614.514,-406\"/>\n",
       "<text text-anchor=\"start\" x=\"492.136\" y=\"-390.8\" font-family=\"Helvetica,sans-Serif\" font-size=\"14.00\">char_freq_$ ≤ 0.056</text>\n",
       "<text text-anchor=\"start\" x=\"505.9\" y=\"-376.8\" font-family=\"Helvetica,sans-Serif\" font-size=\"14.00\">entropy = 0.967</text>\n",
       "<text text-anchor=\"start\" x=\"505.127\" y=\"-362.8\" font-family=\"Helvetica,sans-Serif\" font-size=\"14.00\">samples = 4600</text>\n",
       "<text text-anchor=\"start\" x=\"491.107\" y=\"-348.8\" font-family=\"Helvetica,sans-Serif\" font-size=\"14.00\">value = [2788, 1812]</text>\n",
       "<text text-anchor=\"start\" x=\"527.317\" y=\"-334.8\" font-family=\"Helvetica,sans-Serif\" font-size=\"14.00\">class = s</text>\n",
       "</g>\n",
       "<!-- 1 -->\n",
       "<g id=\"node2\" class=\"node\"><title>1</title>\n",
       "<path fill=\"#e58139\" fill-opacity=\"0.694118\" stroke=\"black\" d=\"M532.464,-292C532.464,-292 373.022,-292 373.022,-292 367.022,-292 361.022,-286 361.022,-280 361.022,-280 361.022,-226 361.022,-226 361.022,-220 367.022,-214 373.022,-214 373.022,-214 532.464,-214 532.464,-214 538.464,-214 544.464,-220 544.464,-226 544.464,-226 544.464,-280 544.464,-280 544.464,-286 538.464,-292 532.464,-292\"/>\n",
       "<text text-anchor=\"start\" x=\"369.132\" y=\"-276.8\" font-family=\"Helvetica,sans-Serif\" font-size=\"14.00\">word_freq_remove ≤ 0.055</text>\n",
       "<text text-anchor=\"start\" x=\"403.9\" y=\"-262.8\" font-family=\"Helvetica,sans-Serif\" font-size=\"14.00\">entropy = 0.786</text>\n",
       "<text text-anchor=\"start\" x=\"403.127\" y=\"-248.8\" font-family=\"Helvetica,sans-Serif\" font-size=\"14.00\">samples = 3470</text>\n",
       "<text text-anchor=\"start\" x=\"393\" y=\"-234.8\" font-family=\"Helvetica,sans-Serif\" font-size=\"14.00\">value = [2655, 815]</text>\n",
       "<text text-anchor=\"start\" x=\"425.317\" y=\"-220.8\" font-family=\"Helvetica,sans-Serif\" font-size=\"14.00\">class = s</text>\n",
       "</g>\n",
       "<!-- 0&#45;&gt;1 -->\n",
       "<g id=\"edge1\" class=\"edge\"><title>0&#45;&gt;1</title>\n",
       "<path fill=\"none\" stroke=\"black\" d=\"M519.925,-327.769C511.637,-318.669 502.713,-308.87 494.162,-299.48\"/>\n",
       "<polygon fill=\"black\" stroke=\"black\" points=\"496.724,-297.095 487.403,-292.058 491.549,-301.809 496.724,-297.095\"/>\n",
       "<text text-anchor=\"middle\" x=\"486.236\" y=\"-312.831\" font-family=\"Helvetica,sans-Serif\" font-size=\"14.00\">True</text>\n",
       "</g>\n",
       "<!-- 8 -->\n",
       "<g id=\"node9\" class=\"node\"><title>8</title>\n",
       "<path fill=\"#399de5\" fill-opacity=\"0.866667\" stroke=\"black\" d=\"M712.782,-292C712.782,-292 600.704,-292 600.704,-292 594.704,-292 588.704,-286 588.704,-280 588.704,-280 588.704,-226 588.704,-226 588.704,-220 594.704,-214 600.704,-214 600.704,-214 712.782,-214 712.782,-214 718.782,-214 724.782,-220 724.782,-226 724.782,-226 724.782,-280 724.782,-280 724.782,-286 718.782,-292 712.782,-292\"/>\n",
       "<text text-anchor=\"start\" x=\"596.474\" y=\"-276.8\" font-family=\"Helvetica,sans-Serif\" font-size=\"14.00\">word_freq_hp ≤ 0.4</text>\n",
       "<text text-anchor=\"start\" x=\"607.9\" y=\"-262.8\" font-family=\"Helvetica,sans-Serif\" font-size=\"14.00\">entropy = 0.523</text>\n",
       "<text text-anchor=\"start\" x=\"607.644\" y=\"-248.8\" font-family=\"Helvetica,sans-Serif\" font-size=\"14.00\">samples = 1130</text>\n",
       "<text text-anchor=\"start\" x=\"600.893\" y=\"-234.8\" font-family=\"Helvetica,sans-Serif\" font-size=\"14.00\">value = [133, 997]</text>\n",
       "<text text-anchor=\"start\" x=\"628.924\" y=\"-220.8\" font-family=\"Helvetica,sans-Serif\" font-size=\"14.00\">class = p</text>\n",
       "</g>\n",
       "<!-- 0&#45;&gt;8 -->\n",
       "<g id=\"edge8\" class=\"edge\"><title>0&#45;&gt;8</title>\n",
       "<path fill=\"none\" stroke=\"black\" d=\"M589.56,-327.769C597.848,-318.669 606.772,-308.87 615.323,-299.48\"/>\n",
       "<polygon fill=\"black\" stroke=\"black\" points=\"617.937,-301.809 622.082,-292.058 612.761,-297.095 617.937,-301.809\"/>\n",
       "<text text-anchor=\"middle\" x=\"623.249\" y=\"-312.831\" font-family=\"Helvetica,sans-Serif\" font-size=\"14.00\">False</text>\n",
       "</g>\n",
       "<!-- 2 -->\n",
       "<g id=\"node3\" class=\"node\"><title>2</title>\n",
       "<path fill=\"#e58139\" fill-opacity=\"0.803922\" stroke=\"black\" d=\"M274.56,-178C274.56,-178 160.925,-178 160.925,-178 154.925,-178 148.925,-172 148.925,-166 148.925,-166 148.925,-112 148.925,-112 148.925,-106 154.925,-100 160.925,-100 160.925,-100 274.56,-100 274.56,-100 280.56,-100 286.56,-106 286.56,-112 286.56,-112 286.56,-166 286.56,-166 286.56,-172 280.56,-178 274.56,-178\"/>\n",
       "<text text-anchor=\"start\" x=\"157.084\" y=\"-162.8\" font-family=\"Helvetica,sans-Serif\" font-size=\"14.00\">char_freq_! ≤ 0.191</text>\n",
       "<text text-anchor=\"start\" x=\"168.9\" y=\"-148.8\" font-family=\"Helvetica,sans-Serif\" font-size=\"14.00\">entropy = 0.644</text>\n",
       "<text text-anchor=\"start\" x=\"168.127\" y=\"-134.8\" font-family=\"Helvetica,sans-Serif\" font-size=\"14.00\">samples = 3140</text>\n",
       "<text text-anchor=\"start\" x=\"158\" y=\"-120.8\" font-family=\"Helvetica,sans-Serif\" font-size=\"14.00\">value = [2625, 515]</text>\n",
       "<text text-anchor=\"start\" x=\"190.317\" y=\"-106.8\" font-family=\"Helvetica,sans-Serif\" font-size=\"14.00\">class = s</text>\n",
       "</g>\n",
       "<!-- 1&#45;&gt;2 -->\n",
       "<g id=\"edge2\" class=\"edge\"><title>1&#45;&gt;2</title>\n",
       "<path fill=\"none\" stroke=\"black\" d=\"M372.854,-213.926C347.959,-202.061 320.546,-188.995 295.779,-177.192\"/>\n",
       "<polygon fill=\"black\" stroke=\"black\" points=\"296.96,-173.878 286.427,-172.735 293.948,-180.197 296.96,-173.878\"/>\n",
       "</g>\n",
       "<!-- 5 -->\n",
       "<g id=\"node6\" class=\"node\"><title>5</title>\n",
       "<path fill=\"#399de5\" fill-opacity=\"0.901961\" stroke=\"black\" d=\"M527.088,-178C527.088,-178 378.398,-178 378.398,-178 372.398,-178 366.398,-172 366.398,-166 366.398,-166 366.398,-112 366.398,-112 366.398,-106 372.398,-100 378.398,-100 378.398,-100 527.088,-100 527.088,-100 533.088,-100 539.088,-106 539.088,-112 539.088,-112 539.088,-166 539.088,-166 539.088,-172 533.088,-178 527.088,-178\"/>\n",
       "<text text-anchor=\"start\" x=\"374.57\" y=\"-162.8\" font-family=\"Helvetica,sans-Serif\" font-size=\"14.00\">word_freq_george ≤ 0.14</text>\n",
       "<text text-anchor=\"start\" x=\"403.9\" y=\"-148.8\" font-family=\"Helvetica,sans-Serif\" font-size=\"14.00\">entropy = 0.439</text>\n",
       "<text text-anchor=\"start\" x=\"407.021\" y=\"-134.8\" font-family=\"Helvetica,sans-Serif\" font-size=\"14.00\">samples = 330</text>\n",
       "<text text-anchor=\"start\" x=\"400.786\" y=\"-120.8\" font-family=\"Helvetica,sans-Serif\" font-size=\"14.00\">value = [30, 300]</text>\n",
       "<text text-anchor=\"start\" x=\"424.924\" y=\"-106.8\" font-family=\"Helvetica,sans-Serif\" font-size=\"14.00\">class = p</text>\n",
       "</g>\n",
       "<!-- 1&#45;&gt;5 -->\n",
       "<g id=\"edge5\" class=\"edge\"><title>1&#45;&gt;5</title>\n",
       "<path fill=\"none\" stroke=\"black\" d=\"M452.743,-213.769C452.743,-205.57 452.743,-196.803 452.743,-188.28\"/>\n",
       "<polygon fill=\"black\" stroke=\"black\" points=\"456.243,-188.058 452.743,-178.058 449.243,-188.059 456.243,-188.058\"/>\n",
       "</g>\n",
       "<!-- 3 -->\n",
       "<g id=\"node4\" class=\"node\"><title>3</title>\n",
       "<path fill=\"#e58139\" fill-opacity=\"0.909804\" stroke=\"black\" d=\"M123.729,-64C123.729,-64 11.7565,-64 11.7565,-64 5.75645,-64 -0.243548,-58 -0.243548,-52 -0.243548,-52 -0.243548,-12 -0.243548,-12 -0.243548,-6 5.75645,-0 11.7565,-0 11.7565,-0 123.729,-0 123.729,-0 129.729,-0 135.729,-6 135.729,-12 135.729,-12 135.729,-52 135.729,-52 135.729,-58 129.729,-64 123.729,-64\"/>\n",
       "<text text-anchor=\"start\" x=\"18.8999\" y=\"-48.8\" font-family=\"Helvetica,sans-Serif\" font-size=\"14.00\">entropy = 0.412</text>\n",
       "<text text-anchor=\"start\" x=\"18.1274\" y=\"-34.8\" font-family=\"Helvetica,sans-Serif\" font-size=\"14.00\">samples = 2524</text>\n",
       "<text text-anchor=\"start\" x=\"8\" y=\"-20.8\" font-family=\"Helvetica,sans-Serif\" font-size=\"14.00\">value = [2315, 209]</text>\n",
       "<text text-anchor=\"start\" x=\"40.3169\" y=\"-6.8\" font-family=\"Helvetica,sans-Serif\" font-size=\"14.00\">class = s</text>\n",
       "</g>\n",
       "<!-- 2&#45;&gt;3 -->\n",
       "<g id=\"edge3\" class=\"edge\"><title>2&#45;&gt;3</title>\n",
       "<path fill=\"none\" stroke=\"black\" d=\"M163.165,-99.7956C149.291,-90.0838 134.408,-79.6656 120.62,-70.0142\"/>\n",
       "<polygon fill=\"black\" stroke=\"black\" points=\"122.395,-66.9845 112.196,-64.1172 118.381,-72.7192 122.395,-66.9845\"/>\n",
       "</g>\n",
       "<!-- 4 -->\n",
       "<g id=\"node5\" class=\"node\"><title>4</title>\n",
       "<path fill=\"#e58139\" fill-opacity=\"0.011765\" stroke=\"black\" d=\"M269.442,-64C269.442,-64 166.043,-64 166.043,-64 160.043,-64 154.043,-58 154.043,-52 154.043,-52 154.043,-12 154.043,-12 154.043,-6 160.043,-0 166.043,-0 166.043,-0 269.442,-0 269.442,-0 275.442,-0 281.442,-6 281.442,-12 281.442,-12 281.442,-52 281.442,-52 281.442,-58 275.442,-64 269.442,-64\"/>\n",
       "<text text-anchor=\"start\" x=\"176.686\" y=\"-48.8\" font-family=\"Helvetica,sans-Serif\" font-size=\"14.00\">entropy = 1.0</text>\n",
       "<text text-anchor=\"start\" x=\"172.021\" y=\"-34.8\" font-family=\"Helvetica,sans-Serif\" font-size=\"14.00\">samples = 616</text>\n",
       "<text text-anchor=\"start\" x=\"161.893\" y=\"-20.8\" font-family=\"Helvetica,sans-Serif\" font-size=\"14.00\">value = [310, 306]</text>\n",
       "<text text-anchor=\"start\" x=\"190.317\" y=\"-6.8\" font-family=\"Helvetica,sans-Serif\" font-size=\"14.00\">class = s</text>\n",
       "</g>\n",
       "<!-- 2&#45;&gt;4 -->\n",
       "<g id=\"edge4\" class=\"edge\"><title>2&#45;&gt;4</title>\n",
       "<path fill=\"none\" stroke=\"black\" d=\"M217.743,-99.7956C217.743,-91.4581 217.743,-82.6 217.743,-74.1534\"/>\n",
       "<polygon fill=\"black\" stroke=\"black\" points=\"221.243,-74.1171 217.743,-64.1172 214.243,-74.1172 221.243,-74.1171\"/>\n",
       "</g>\n",
       "<!-- 6 -->\n",
       "<g id=\"node7\" class=\"node\"><title>6</title>\n",
       "<path fill=\"#399de5\" fill-opacity=\"0.945098\" stroke=\"black\" d=\"M407.656,-64C407.656,-64 311.83,-64 311.83,-64 305.83,-64 299.83,-58 299.83,-52 299.83,-52 299.83,-12 299.83,-12 299.83,-6 305.83,-0 311.83,-0 311.83,-0 407.656,-0 407.656,-0 413.656,-0 419.656,-6 419.656,-12 419.656,-12 419.656,-52 419.656,-52 419.656,-58 413.656,-64 407.656,-64\"/>\n",
       "<text text-anchor=\"start\" x=\"310.9\" y=\"-48.8\" font-family=\"Helvetica,sans-Serif\" font-size=\"14.00\">entropy = 0.302</text>\n",
       "<text text-anchor=\"start\" x=\"314.021\" y=\"-34.8\" font-family=\"Helvetica,sans-Serif\" font-size=\"14.00\">samples = 317</text>\n",
       "<text text-anchor=\"start\" x=\"307.786\" y=\"-20.8\" font-family=\"Helvetica,sans-Serif\" font-size=\"14.00\">value = [17, 300]</text>\n",
       "<text text-anchor=\"start\" x=\"331.924\" y=\"-6.8\" font-family=\"Helvetica,sans-Serif\" font-size=\"14.00\">class = p</text>\n",
       "</g>\n",
       "<!-- 5&#45;&gt;6 -->\n",
       "<g id=\"edge6\" class=\"edge\"><title>5&#45;&gt;6</title>\n",
       "<path fill=\"none\" stroke=\"black\" d=\"M418.904,-99.7956C410.79,-90.6335 402.118,-80.8428 393.985,-71.6603\"/>\n",
       "<polygon fill=\"black\" stroke=\"black\" points=\"396.554,-69.2824 387.304,-64.1172 391.314,-73.9237 396.554,-69.2824\"/>\n",
       "</g>\n",
       "<!-- 7 -->\n",
       "<g id=\"node8\" class=\"node\"><title>7</title>\n",
       "<path fill=\"#e58139\" stroke=\"black\" d=\"M530.084,-64C530.084,-64 449.401,-64 449.401,-64 443.401,-64 437.401,-58 437.401,-52 437.401,-52 437.401,-12 437.401,-12 437.401,-6 443.401,-0 449.401,-0 449.401,-0 530.084,-0 530.084,-0 536.084,-0 542.084,-6 542.084,-12 542.084,-12 542.084,-52 542.084,-52 542.084,-58 536.084,-64 530.084,-64\"/>\n",
       "<text text-anchor=\"start\" x=\"448.686\" y=\"-48.8\" font-family=\"Helvetica,sans-Serif\" font-size=\"14.00\">entropy = 0.0</text>\n",
       "<text text-anchor=\"start\" x=\"447.914\" y=\"-34.8\" font-family=\"Helvetica,sans-Serif\" font-size=\"14.00\">samples = 13</text>\n",
       "<text text-anchor=\"start\" x=\"445.572\" y=\"-20.8\" font-family=\"Helvetica,sans-Serif\" font-size=\"14.00\">value = [13, 0]</text>\n",
       "<text text-anchor=\"start\" x=\"462.317\" y=\"-6.8\" font-family=\"Helvetica,sans-Serif\" font-size=\"14.00\">class = s</text>\n",
       "</g>\n",
       "<!-- 5&#45;&gt;7 -->\n",
       "<g id=\"edge7\" class=\"edge\"><title>5&#45;&gt;7</title>\n",
       "<path fill=\"none\" stroke=\"black\" d=\"M466.205,-99.7956C469.208,-91.2749 472.402,-82.2104 475.437,-73.5971\"/>\n",
       "<polygon fill=\"black\" stroke=\"black\" points=\"478.755,-74.712 478.778,-64.1172 472.153,-72.3855 478.755,-74.712\"/>\n",
       "</g>\n",
       "<!-- 9 -->\n",
       "<g id=\"node10\" class=\"node\"><title>9</title>\n",
       "<path fill=\"#399de5\" fill-opacity=\"0.929412\" stroke=\"black\" d=\"M720.853,-178C720.853,-178 592.632,-178 592.632,-178 586.632,-178 580.632,-172 580.632,-166 580.632,-166 580.632,-112 580.632,-112 580.632,-106 586.632,-100 592.632,-100 592.632,-100 720.853,-100 720.853,-100 726.853,-100 732.853,-106 732.853,-112 732.853,-112 732.853,-166 732.853,-166 732.853,-172 726.853,-178 720.853,-178\"/>\n",
       "<text text-anchor=\"start\" x=\"588.688\" y=\"-162.8\" font-family=\"Helvetica,sans-Serif\" font-size=\"14.00\">word_freq_edu ≤ 0.49</text>\n",
       "<text text-anchor=\"start\" x=\"607.9\" y=\"-148.8\" font-family=\"Helvetica,sans-Serif\" font-size=\"14.00\">entropy = 0.351</text>\n",
       "<text text-anchor=\"start\" x=\"607.127\" y=\"-134.8\" font-family=\"Helvetica,sans-Serif\" font-size=\"14.00\">samples = 1060</text>\n",
       "<text text-anchor=\"start\" x=\"604.786\" y=\"-120.8\" font-family=\"Helvetica,sans-Serif\" font-size=\"14.00\">value = [70, 990]</text>\n",
       "<text text-anchor=\"start\" x=\"628.924\" y=\"-106.8\" font-family=\"Helvetica,sans-Serif\" font-size=\"14.00\">class = p</text>\n",
       "</g>\n",
       "<!-- 8&#45;&gt;9 -->\n",
       "<g id=\"edge9\" class=\"edge\"><title>8&#45;&gt;9</title>\n",
       "<path fill=\"none\" stroke=\"black\" d=\"M656.743,-213.769C656.743,-205.57 656.743,-196.803 656.743,-188.28\"/>\n",
       "<polygon fill=\"black\" stroke=\"black\" points=\"660.243,-188.058 656.743,-178.058 653.243,-188.059 660.243,-188.058\"/>\n",
       "</g>\n",
       "<!-- 12 -->\n",
       "<g id=\"node13\" class=\"node\"><title>12</title>\n",
       "<path fill=\"#e58139\" fill-opacity=\"0.890196\" stroke=\"black\" d=\"M948.736,-178C948.736,-178 802.75,-178 802.75,-178 796.75,-178 790.75,-172 790.75,-166 790.75,-166 790.75,-112 790.75,-112 790.75,-106 796.75,-100 802.75,-100 802.75,-100 948.736,-100 948.736,-100 954.736,-100 960.736,-106 960.736,-112 960.736,-112 960.736,-166 960.736,-166 960.736,-172 954.736,-178 948.736,-178\"/>\n",
       "<text text-anchor=\"start\" x=\"798.746\" y=\"-162.8\" font-family=\"Helvetica,sans-Serif\" font-size=\"14.00\">word_freq_email ≤ 0.285</text>\n",
       "<text text-anchor=\"start\" x=\"826.9\" y=\"-148.8\" font-family=\"Helvetica,sans-Serif\" font-size=\"14.00\">entropy = 0.469</text>\n",
       "<text text-anchor=\"start\" x=\"833.914\" y=\"-134.8\" font-family=\"Helvetica,sans-Serif\" font-size=\"14.00\">samples = 70</text>\n",
       "<text text-anchor=\"start\" x=\"831.572\" y=\"-120.8\" font-family=\"Helvetica,sans-Serif\" font-size=\"14.00\">value = [63, 7]</text>\n",
       "<text text-anchor=\"start\" x=\"848.317\" y=\"-106.8\" font-family=\"Helvetica,sans-Serif\" font-size=\"14.00\">class = s</text>\n",
       "</g>\n",
       "<!-- 8&#45;&gt;12 -->\n",
       "<g id=\"edge12\" class=\"edge\"><title>8&#45;&gt;12</title>\n",
       "<path fill=\"none\" stroke=\"black\" d=\"M724.835,-217.176C746.134,-206.284 769.884,-194.138 792.124,-182.764\"/>\n",
       "<polygon fill=\"black\" stroke=\"black\" points=\"793.91,-185.782 801.22,-178.112 790.723,-179.549 793.91,-185.782\"/>\n",
       "</g>\n",
       "<!-- 10 -->\n",
       "<g id=\"node11\" class=\"node\"><title>10</title>\n",
       "<path fill=\"#399de5\" fill-opacity=\"0.945098\" stroke=\"black\" d=\"M667.656,-64C667.656,-64 571.83,-64 571.83,-64 565.83,-64 559.83,-58 559.83,-52 559.83,-52 559.83,-12 559.83,-12 559.83,-6 565.83,-0 571.83,-0 571.83,-0 667.656,-0 667.656,-0 673.656,-0 679.656,-6 679.656,-12 679.656,-12 679.656,-52 679.656,-52 679.656,-58 673.656,-64 667.656,-64\"/>\n",
       "<text text-anchor=\"start\" x=\"570.9\" y=\"-48.8\" font-family=\"Helvetica,sans-Serif\" font-size=\"14.00\">entropy = 0.297</text>\n",
       "<text text-anchor=\"start\" x=\"570.127\" y=\"-34.8\" font-family=\"Helvetica,sans-Serif\" font-size=\"14.00\">samples = 1045</text>\n",
       "<text text-anchor=\"start\" x=\"567.786\" y=\"-20.8\" font-family=\"Helvetica,sans-Serif\" font-size=\"14.00\">value = [55, 990]</text>\n",
       "<text text-anchor=\"start\" x=\"591.924\" y=\"-6.8\" font-family=\"Helvetica,sans-Serif\" font-size=\"14.00\">class = p</text>\n",
       "</g>\n",
       "<!-- 9&#45;&gt;10 -->\n",
       "<g id=\"edge10\" class=\"edge\"><title>9&#45;&gt;10</title>\n",
       "<path fill=\"none\" stroke=\"black\" d=\"M643.28,-99.7956C640.278,-91.2749 637.083,-82.2104 634.048,-73.5971\"/>\n",
       "<polygon fill=\"black\" stroke=\"black\" points=\"637.332,-72.3855 630.708,-64.1172 630.73,-74.712 637.332,-72.3855\"/>\n",
       "</g>\n",
       "<!-- 11 -->\n",
       "<g id=\"node12\" class=\"node\"><title>11</title>\n",
       "<path fill=\"#e58139\" stroke=\"black\" d=\"M790.084,-64C790.084,-64 709.401,-64 709.401,-64 703.401,-64 697.401,-58 697.401,-52 697.401,-52 697.401,-12 697.401,-12 697.401,-6 703.401,-0 709.401,-0 709.401,-0 790.084,-0 790.084,-0 796.084,-0 802.084,-6 802.084,-12 802.084,-12 802.084,-52 802.084,-52 802.084,-58 796.084,-64 790.084,-64\"/>\n",
       "<text text-anchor=\"start\" x=\"708.686\" y=\"-48.8\" font-family=\"Helvetica,sans-Serif\" font-size=\"14.00\">entropy = 0.0</text>\n",
       "<text text-anchor=\"start\" x=\"707.914\" y=\"-34.8\" font-family=\"Helvetica,sans-Serif\" font-size=\"14.00\">samples = 15</text>\n",
       "<text text-anchor=\"start\" x=\"705.572\" y=\"-20.8\" font-family=\"Helvetica,sans-Serif\" font-size=\"14.00\">value = [15, 0]</text>\n",
       "<text text-anchor=\"start\" x=\"722.317\" y=\"-6.8\" font-family=\"Helvetica,sans-Serif\" font-size=\"14.00\">class = s</text>\n",
       "</g>\n",
       "<!-- 9&#45;&gt;11 -->\n",
       "<g id=\"edge11\" class=\"edge\"><title>9&#45;&gt;11</title>\n",
       "<path fill=\"none\" stroke=\"black\" d=\"M690.581,-99.7956C698.696,-90.6335 707.368,-80.8428 715.501,-71.6603\"/>\n",
       "<polygon fill=\"black\" stroke=\"black\" points=\"718.171,-73.9237 722.182,-64.1172 712.931,-69.2824 718.171,-73.9237\"/>\n",
       "</g>\n",
       "<!-- 13 -->\n",
       "<g id=\"node14\" class=\"node\"><title>13</title>\n",
       "<path fill=\"#e58139\" fill-opacity=\"0.984314\" stroke=\"black\" d=\"M919.897,-64C919.897,-64 831.589,-64 831.589,-64 825.589,-64 819.589,-58 819.589,-52 819.589,-52 819.589,-12 819.589,-12 819.589,-6 825.589,-0 831.589,-0 831.589,-0 919.897,-0 919.897,-0 925.897,-0 931.897,-6 931.897,-12 931.897,-12 931.897,-52 931.897,-52 931.897,-58 925.897,-64 919.897,-64\"/>\n",
       "<text text-anchor=\"start\" x=\"827.416\" y=\"-48.8\" font-family=\"Helvetica,sans-Serif\" font-size=\"14.00\">entropy = 0.116</text>\n",
       "<text text-anchor=\"start\" x=\"833.914\" y=\"-34.8\" font-family=\"Helvetica,sans-Serif\" font-size=\"14.00\">samples = 64</text>\n",
       "<text text-anchor=\"start\" x=\"831.572\" y=\"-20.8\" font-family=\"Helvetica,sans-Serif\" font-size=\"14.00\">value = [63, 1]</text>\n",
       "<text text-anchor=\"start\" x=\"848.317\" y=\"-6.8\" font-family=\"Helvetica,sans-Serif\" font-size=\"14.00\">class = s</text>\n",
       "</g>\n",
       "<!-- 12&#45;&gt;13 -->\n",
       "<g id=\"edge13\" class=\"edge\"><title>12&#45;&gt;13</title>\n",
       "<path fill=\"none\" stroke=\"black\" d=\"M875.743,-99.7956C875.743,-91.4581 875.743,-82.6 875.743,-74.1534\"/>\n",
       "<polygon fill=\"black\" stroke=\"black\" points=\"879.243,-74.1171 875.743,-64.1172 872.243,-74.1172 879.243,-74.1171\"/>\n",
       "</g>\n",
       "<!-- 14 -->\n",
       "<g id=\"node15\" class=\"node\"><title>14</title>\n",
       "<path fill=\"#399de5\" stroke=\"black\" d=\"M1035.86,-64C1035.86,-64 961.629,-64 961.629,-64 955.629,-64 949.629,-58 949.629,-52 949.629,-52 949.629,-12 949.629,-12 949.629,-6 955.629,-0 961.629,-0 961.629,-0 1035.86,-0 1035.86,-0 1041.86,-0 1047.86,-6 1047.86,-12 1047.86,-12 1047.86,-52 1047.86,-52 1047.86,-58 1041.86,-64 1035.86,-64\"/>\n",
       "<text text-anchor=\"start\" x=\"957.686\" y=\"-48.8\" font-family=\"Helvetica,sans-Serif\" font-size=\"14.00\">entropy = 0.0</text>\n",
       "<text text-anchor=\"start\" x=\"960.807\" y=\"-34.8\" font-family=\"Helvetica,sans-Serif\" font-size=\"14.00\">samples = 6</text>\n",
       "<text text-anchor=\"start\" x=\"958.465\" y=\"-20.8\" font-family=\"Helvetica,sans-Serif\" font-size=\"14.00\">value = [0, 6]</text>\n",
       "<text text-anchor=\"start\" x=\"970.924\" y=\"-6.8\" font-family=\"Helvetica,sans-Serif\" font-size=\"14.00\">class = p</text>\n",
       "</g>\n",
       "<!-- 12&#45;&gt;14 -->\n",
       "<g id=\"edge14\" class=\"edge\"><title>12&#45;&gt;14</title>\n",
       "<path fill=\"none\" stroke=\"black\" d=\"M920.496,-99.7956C931.551,-90.3587 943.387,-80.2547 954.421,-70.8355\"/>\n",
       "<polygon fill=\"black\" stroke=\"black\" points=\"956.958,-73.2718 962.291,-64.1172 952.413,-67.9478 956.958,-73.2718\"/>\n",
       "</g>\n",
       "</g>\n",
       "</svg>\n"
      ],
      "text/plain": [
       "<graphviz.files.Source at 0x10d983080>"
      ]
     },
     "execution_count": 6,
     "metadata": {},
     "output_type": "execute_result"
    }
   ],
   "source": [
    "graph"
   ]
  },
  {
   "cell_type": "markdown",
   "metadata": {},
   "source": [
    "One could quickly use the tree generated for the purposes of [feature selection](https://en.wikipedia.org/wiki/Feature_selection). Feature selection is a whole research area in machine learning with a very practical purpose: being able to identify which features are more relevant in a prediction problem. In modern big data applications, the amount of features generated is huge. For example, one could extract thousands of millions of features from a genome sequence that maps to a particular medical disorder. Finding which features are more relevant for correctly classifying the disorder could lead to breakthroughs in medicine. \n",
    "\n",
    "Relevant features can be identified starting from the top level of the tree and going down to the leaf nodes. For example, one can argue that the most important feature is the one used in the root node (e.g. char_freq_$ for the Spambase dataset) since it has the highest entropy.    \n",
    "\n",
    "## Evaluating the prediction ability of a decision tree classifier\n",
    "\n",
    "We will now evaluate the predictive ability of the decision tree classifier on a subset of the Spam dataset. The Decision Tree has several tunable parameters, including, the criterion or impurity measure (criterion) and the maximum depth of the tree (max_depth). A complete list of parameters for the DecisionTreeClassifier implemented in scikit-learn can be found [here](https://scikit-learn.org/stable/modules/generated/sklearn.tree.DecisionTreeClassifier.html#sklearn.tree.DecisionTreeClassifier).\n",
    "\n",
    "We will create a simple Grid Search for crosvalidating the best parameters for our model. "
   ]
  },
  {
   "cell_type": "code",
   "execution_count": 7,
   "metadata": {},
   "outputs": [],
   "source": [
    "# We first split the data into a train and a test set. \n",
    "from sklearn.model_selection import ShuffleSplit\n",
    "ss = ShuffleSplit(n_splits=1, test_size=0.3, random_state=42)\n",
    "indexes = list(ss.split(X, y))\n",
    "train_set  = indexes[0][0]\n",
    "test_set  = indexes[0][1]\n",
    "Xtrain = X.iloc[train_set, :]\n",
    "ytrain = y.iloc[train_set]\n",
    "Xtest = X.iloc[test_set, :]\n",
    "ytest = y.iloc[test_set]"
   ]
  },
  {
   "cell_type": "markdown",
   "metadata": {},
   "source": [
    "We now create a Grid search for the parameters criterion and max_depth and we use the training data to find the best parameters"
   ]
  },
  {
   "cell_type": "code",
   "execution_count": 8,
   "metadata": {},
   "outputs": [
    {
     "data": {
      "text/plain": [
       "GridSearchCV(cv=ShuffleSplit(n_splits=1, random_state=42, test_size=0.3, train_size=None),\n",
       "       error_score='raise',\n",
       "       estimator=DecisionTreeClassifier(class_weight=None, criterion='gini', max_depth=None,\n",
       "            max_features=None, max_leaf_nodes=None,\n",
       "            min_impurity_decrease=0.0, min_impurity_split=None,\n",
       "            min_samples_leaf=1, min_samples_split=2,\n",
       "            min_weight_fraction_leaf=0.0, presort=False, random_state=None,\n",
       "            splitter='best'),\n",
       "       fit_params=None, iid=True, n_jobs=1,\n",
       "       param_grid={'criterion': array(['entropy', 'gini'], dtype='<U7'), 'max_depth': [3, 5, 10, 15]},\n",
       "       pre_dispatch='2*n_jobs', refit=True, return_train_score='warn',\n",
       "       scoring='accuracy', verbose=0)"
      ]
     },
     "execution_count": 8,
     "metadata": {},
     "output_type": "execute_result"
    }
   ],
   "source": [
    "from sklearn.model_selection import GridSearchCV # For model selection\n",
    "criterion_opts = np.array(['entropy', 'gini'])\n",
    "max_depth_opts = [3, 5, 10, 15]\n",
    "param_grid = dict(criterion = criterion_opts, max_depth = max_depth_opts)\n",
    "cv = ShuffleSplit(n_splits=1, test_size=0.3, random_state=42)\n",
    "grid = GridSearchCV(tree.DecisionTreeClassifier(), param_grid=param_grid, cv=cv, scoring='accuracy')\n",
    "grid.fit(Xtrain, ytrain)"
   ]
  },
  {
   "cell_type": "markdown",
   "metadata": {},
   "source": [
    "We can see now which ones were the best parameters."
   ]
  },
  {
   "cell_type": "code",
   "execution_count": 9,
   "metadata": {},
   "outputs": [
    {
     "data": {
      "text/plain": [
       "{'criterion': 'entropy', 'max_depth': 15}"
      ]
     },
     "execution_count": 9,
     "metadata": {},
     "output_type": "execute_result"
    }
   ],
   "source": [
    "grid.best_params_"
   ]
  },
  {
   "cell_type": "markdown",
   "metadata": {},
   "source": [
    "We then train a new decision tree using those parameters and then evaluate the model on the test set."
   ]
  },
  {
   "cell_type": "code",
   "execution_count": 10,
   "metadata": {},
   "outputs": [],
   "source": [
    "clf = tree.DecisionTreeClassifier(criterion=grid.best_params_[\"criterion\"],max_depth=grid.best_params_[\"max_depth\"])\n",
    "clf.fit(Xtrain, ytrain)\n",
    "ypred = clf.predict(Xtest)    "
   ]
  },
  {
   "cell_type": "markdown",
   "metadata": {},
   "source": [
    "We now evaluate the accuracy and the receiving operating curve"
   ]
  },
  {
   "cell_type": "code",
   "execution_count": 11,
   "metadata": {},
   "outputs": [
    {
     "name": "stdout",
     "output_type": "stream",
     "text": [
      "0.908695652173913\n"
     ]
    }
   ],
   "source": [
    "from sklearn.metrics import accuracy_score # Accuracy score\n",
    "#from sklearn.metrics import roc_auc_score  # Area under the \n",
    "accuracy = accuracy_score(ytest, ypred)\n",
    "#auc = roc_auc_s|core(ytest, ypred)\n",
    "print(accuracy) "
   ]
  },
  {
   "cell_type": "markdown",
   "metadata": {},
   "source": [
    "### Distribution of the labels\n",
    "\n",
    "Let us look at the distribution of the instances for class in the original dataset and in the training data. \n",
    "\n",
    ">**Warning for MAC OS users** As of today, the current installation of `graphviz` **may** put its own version of freetype into the default python runtime library path. However, matplotlib needs a different version of the same library. The fix is explained in [this entry of stackoverflow](https://stackoverflow.com/questions/28028786/matplotlib-error-libfreetype-6-dylib). "
   ]
  },
  {
   "cell_type": "code",
   "execution_count": 12,
   "metadata": {},
   "outputs": [
    {
     "data": {
      "image/png": "[encoded data removed]",
      "text/plain": [
       "<matplotlib.figure.Figure at 0x10e29c5f8>"
      ]
     },
     "metadata": {
      "needs_background": "light"
     },
     "output_type": "display_data"
    }
   ],
   "source": [
    "%matplotlib inline \n",
    "import matplotlib.pyplot as plt\n",
    "y.hist()\n",
    "plt.ylabel('Number of instances')\n",
    "plt.xlabel('Class label')\n",
    "plt.title('Class distribution for X')\n",
    "plt.show()"
   ]
  },
  {
   "cell_type": "code",
   "execution_count": 13,
   "metadata": {},
   "outputs": [
    {
     "data": {
      "image/png": "[encoded data removed]",
      "text/plain": [
       "<matplotlib.figure.Figure at 0x10e4c4e48>"
      ]
     },
     "metadata": {
      "needs_background": "light"
     },
     "output_type": "display_data"
    }
   ],
   "source": [
    "ytrain.hist()\n",
    "plt.ylabel('Number of instances')\n",
    "plt.xlabel('Class label')\n",
    "plt.title('Class distribution for Xtrain')\n",
    "plt.show()"
   ]
  },
  {
   "cell_type": "markdown",
   "metadata": {},
   "source": [
    "Notice that the numbers of data observations per class are different. We usually refer to this kind of problems as \"imbalanced\". Bear in mind that when creating your training data, you need to account for this imbalance and be aware against misleading results. For example, accuracy is probably not a good metric to measure performance in these problems. Say you have a binary classification problem for which your test data consists of 100 instances. From those, 99 instances belong to class 1, say 'ham', and 1 instance belong to class 2, say 'spam'. When you test your classifier on these instances, you could have a classifier that only is able to predict class 1 correctly, but elements of class 2 are predicted incorrectly. If you apply this classifier to your test data, you would get 99% accuracy. Looking at this percentage out of context and saying that you have produced a highly realible classifier is completely wrong since your classifier only learned to correctly classify instances in class 1. The problem gets worse if your test set is large, say 100,000 instances, 99,000 are correctly predicted for class 1 and 1,000 are incorrectly predicted for class 2. Even when the classifier fails in correctly predicted 1,000 instances from class 2, the accuracy of this classifier would be 99%.\n",
    "\n",
    "There are different [strategies for balancing a dataset](https://books.google.co.uk/books/about/Imbalanced_Learning.html?id=YqQJngEACAAJ&redir_esc=y) but if for some reason you are not able to balance it, it is important to be aware of these issues. Two stategies to use are: i) instead of simply splitting the data blindly, split the data accounting for the imbalance. sckiti-learn offers the class [StratifiedShuffleSplit](https://scikit-learn.org/stable/modules/generated/sklearn.model_selection.StratifiedShuffleSplit.html) for this. Using stratified sampling is particuarly important for regression problems. ii) do not trust \"accuracy\" as the sole metric to measure performance. Other classification metrics more suitable for imbalanced problems include [recall, precision, F1](https://en.wikipedia.org/wiki/Precision_and_recall), and [area under the curve](https://en.wikipedia.org/wiki/Receiver_operating_characteristic). \n",
    "\n",
    "### Question 1\n",
    "\n",
    "Repeat the spam prediction problem above but instead of splitting the data using ShuffleSplit, use StratifiedShuffleSplit. Do you notice any difference in the accuracy? Also, use a performance measure that takes into account imbalanced data. Do you see any different between this new performance measure when spliting with StratifiedShuffleSplit and when sppliting using ShuffleSplit?\n",
    "\n",
    "## DecisionTreeClassifier in PySpark\n",
    "\n",
    "There are several challenges when implementing decision trees in a distributed setting, particularly when we want to use [commodity hardware](https://en.wikipedia.org/wiki/Commodity_computing). A very popular implementation is known as [PLANET: Massively Parallel Learning of Tree Ensembles with MapReduce](https://static.googleusercontent.com/media/research.google.com/en//pubs/archive/36296.pdf). PLANET allows an efficient implementation of decision trees at large scale purely using map() and reduce() operations, suitable for a Hadoop cluster. Although the Decision Tree implementation in [Apache Spark borrows some of the ideas from PLANET](http://jmlr.org/papers/volume17/15-237/15-237.pdf), it also introduces additional tricks that exploit the well-known advantages of Apache Spark, in memory computing, overall. The Apache Spark implementation of the DecisionTree classifier may not be as flexible as the scikit-learn one (bear in mind they were designed under a different sets of restrictions), but it still allows the use of such a powerful machine learning model at large scale.\n",
    "\n",
    "You can find more technical details on the implementation of Decision Trees in Apache Spark in the youtube video [Scalable Decision Trees in Spark MLlib](https://www.youtube.com/watch?v=N453EV5gHRA&t=10m30s) by Manish Amde and the youtube video [Decision Trees on Spark](https://www.youtube.com/watch?v=3WS9OK3EXVA) by Joseph Bradley. These technical details are also reviewed in a [blog post on decision trees](https://databricks.com/blog/2014/09/29/scalable-decision-trees-in-mllib.html) and another [blog post on random forests](https://databricks.com/blog/2015/01/21/random-forests-and-boosting-in-mllib.html). \n",
    "\n",
    "We start by creating a <tt>SparkSession</tt> (unless you are running in a pyspark shell)"
   ]
  },
  {
   "cell_type": "code",
   "execution_count": 14,
   "metadata": {},
   "outputs": [],
   "source": [
    "import findspark\n",
    "findspark.init()\n",
    "from pyspark.sql import SparkSession\n",
    "import numpy as np\n",
    "spark = SparkSession.builder.master(\"local[2]\").appName(\"COM6012 Decision Trees\").getOrCreate()"
   ]
  },
  {
   "cell_type": "markdown",
   "metadata": {},
   "source": [
    "We now load the dataset and load the names of the features and label that we will use to create the schema for the dataframe. We also cache the dataframe since we are going to perform several operations to rawdata inside a loop."
   ]
  },
  {
   "cell_type": "code",
   "execution_count": 15,
   "metadata": {},
   "outputs": [],
   "source": [
    "rawdata = spark.read.csv('./files/spambase.data')\n",
    "rawdata.cache()\n",
    "ncolumns = len(rawdata.columns)\n",
    "spam_names = [spam_names.rstrip('\\n') for spam_names in open('./files/spambase.data.names')]\n",
    "number_names = np.shape(spam_names)[0]\n",
    "for i in range(number_names):\n",
    "    local = spam_names[i]\n",
    "    colon_pos = local.find(':')\n",
    "    spam_names[i] = local[:colon_pos]"
   ]
  },
  {
   "cell_type": "markdown",
   "metadata": {},
   "source": [
    "We use the [<tt>withColumnRenamed</tt>](http://spark.apache.org/docs/latest/api/python/pyspark.sql.html?highlight=withcolumn#pyspark.sql.DataFrame.withColumnRenamed) method for the dataframe to rename the columns using the more familiar names for the features."
   ]
  },
  {
   "cell_type": "code",
   "execution_count": 16,
   "metadata": {},
   "outputs": [],
   "source": [
    "schemaNames = rawdata.schema.names\n",
    "spam_names[ncolumns-1] = 'labels'\n",
    "for i in range(ncolumns):\n",
    "    rawdata = rawdata.withColumnRenamed(schemaNames[i], spam_names[i])"
   ]
  },
  {
   "cell_type": "markdown",
   "metadata": {},
   "source": [
    "Perhaps one of the most important operations when doing data analytics in Apache Spark consists in preprocessing the dataset so that it can be analysed using the MLlib package. In the case of supervised learning, classification or regression, we want the data into a column of type `Double` for the label and a column of type `SparseVector` or `DenseVector` for the features. \n",
    "\n",
    "We import the <tt>Double</tt> type from pyspark.sql.types, use the [<tt>withColumn</tt>](http://spark.apache.org/docs/latest/api/python/pyspark.sql.html?highlight=withcolumn#pyspark.sql.DataFrame.withColumn) method for the dataframe and `cast()` the column to DoubleType."
   ]
  },
  {
   "cell_type": "code",
   "execution_count": 17,
   "metadata": {},
   "outputs": [],
   "source": [
    "from pyspark.sql.types import DoubleType\n",
    "for i in range(ncolumns):\n",
    "    rawdata = rawdata.withColumn(spam_names[i], rawdata[spam_names[i]].cast(DoubleType()))"
   ]
  },
  {
   "cell_type": "code",
   "execution_count": 18,
   "metadata": {},
   "outputs": [
    {
     "name": "stdout",
     "output_type": "stream",
     "text": [
      "root\n",
      " |-- word_freq_make: double (nullable = true)\n",
      " |-- word_freq_address: double (nullable = true)\n",
      " |-- word_freq_all: double (nullable = true)\n",
      " |-- word_freq_3d: double (nullable = true)\n",
      " |-- word_freq_our: double (nullable = true)\n",
      " |-- word_freq_over: double (nullable = true)\n",
      " |-- word_freq_remove: double (nullable = true)\n",
      " |-- word_freq_internet: double (nullable = true)\n",
      " |-- word_freq_order: double (nullable = true)\n",
      " |-- word_freq_mail: double (nullable = true)\n",
      " |-- word_freq_receive: double (nullable = true)\n",
      " |-- word_freq_will: double (nullable = true)\n",
      " |-- word_freq_people: double (nullable = true)\n",
      " |-- word_freq_report: double (nullable = true)\n",
      " |-- word_freq_addresses: double (nullable = true)\n",
      " |-- word_freq_free: double (nullable = true)\n",
      " |-- word_freq_business: double (nullable = true)\n",
      " |-- word_freq_email: double (nullable = true)\n",
      " |-- word_freq_you: double (nullable = true)\n",
      " |-- word_freq_credit: double (nullable = true)\n",
      " |-- word_freq_your: double (nullable = true)\n",
      " |-- word_freq_font: double (nullable = true)\n",
      " |-- word_freq_000: double (nullable = true)\n",
      " |-- word_freq_money: double (nullable = true)\n",
      " |-- word_freq_hp: double (nullable = true)\n",
      " |-- word_freq_hpl: double (nullable = true)\n",
      " |-- word_freq_george: double (nullable = true)\n",
      " |-- word_freq_650: double (nullable = true)\n",
      " |-- word_freq_lab: double (nullable = true)\n",
      " |-- word_freq_labs: double (nullable = true)\n",
      " |-- word_freq_telnet: double (nullable = true)\n",
      " |-- word_freq_857: double (nullable = true)\n",
      " |-- word_freq_data: double (nullable = true)\n",
      " |-- word_freq_415: double (nullable = true)\n",
      " |-- word_freq_85: double (nullable = true)\n",
      " |-- word_freq_technology: double (nullable = true)\n",
      " |-- word_freq_1999: double (nullable = true)\n",
      " |-- word_freq_parts: double (nullable = true)\n",
      " |-- word_freq_pm: double (nullable = true)\n",
      " |-- word_freq_direct: double (nullable = true)\n",
      " |-- word_freq_cs: double (nullable = true)\n",
      " |-- word_freq_meeting: double (nullable = true)\n",
      " |-- word_freq_original: double (nullable = true)\n",
      " |-- word_freq_project: double (nullable = true)\n",
      " |-- word_freq_re: double (nullable = true)\n",
      " |-- word_freq_edu: double (nullable = true)\n",
      " |-- word_freq_table: double (nullable = true)\n",
      " |-- word_freq_conference: double (nullable = true)\n",
      " |-- char_freq_;: double (nullable = true)\n",
      " |-- char_freq_(: double (nullable = true)\n",
      " |-- char_freq_[: double (nullable = true)\n",
      " |-- char_freq_!: double (nullable = true)\n",
      " |-- char_freq_$: double (nullable = true)\n",
      " |-- char_freq_#: double (nullable = true)\n",
      " |-- capital_run_length_average: double (nullable = true)\n",
      " |-- capital_run_length_longest: double (nullable = true)\n",
      " |-- capital_run_length_total: double (nullable = true)\n",
      " |-- labels: double (nullable = true)\n",
      "\n"
     ]
    }
   ],
   "source": [
    "rawdata.printSchema()"
   ]
  },
  {
   "cell_type": "markdown",
   "metadata": {},
   "source": [
    "We have now a dataframe that contains several columns corresponding to the features and the last column corresponding to the labels. We use the [<tt>VectorAssembler</tt>](http://spark.apache.org/docs/latest/api/python/pyspark.ml.html?highlight=vectorassembler#pyspark.ml.feature.VectorAssembler) tool to concatenate all the features in a vector."
   ]
  },
  {
   "cell_type": "code",
   "execution_count": 19,
   "metadata": {},
   "outputs": [],
   "source": [
    "from pyspark.ml.feature import VectorAssembler\n",
    "assembler = VectorAssembler(inputCols = spam_names[0:ncolumns-1], outputCol = 'features') \n",
    "raw_plus_vector = assembler.transform(rawdata)"
   ]
  },
  {
   "cell_type": "markdown",
   "metadata": {},
   "source": [
    "<tt>raw_plus_vector</tt> is now a dataframe with an additional column for the feature vectors. We create our final dataframe, that we call data, by selecting the appropriate columns from <tt>raw_plus_vector</tt> "
   ]
  },
  {
   "cell_type": "code",
   "execution_count": 20,
   "metadata": {},
   "outputs": [],
   "source": [
    "data = raw_plus_vector.select('features','labels')"
   ]
  },
  {
   "cell_type": "code",
   "execution_count": 21,
   "metadata": {},
   "outputs": [
    {
     "name": "stdout",
     "output_type": "stream",
     "text": [
      "root\n",
      " |-- features: vector (nullable = true)\n",
      " |-- labels: double (nullable = true)\n",
      "\n"
     ]
    }
   ],
   "source": [
    "data.printSchema()"
   ]
  },
  {
   "cell_type": "markdown",
   "metadata": {},
   "source": [
    "The pyspark code above was all for preprocessing the data. We can now start the machine learning analysis by creating the training and test set and then designing the DecisionTreeClassifier using the training data."
   ]
  },
  {
   "cell_type": "code",
   "execution_count": 22,
   "metadata": {},
   "outputs": [],
   "source": [
    "(trainingData, testData) = data.randomSplit([0.7, 0.3], 42)"
   ]
  },
  {
   "cell_type": "markdown",
   "metadata": {},
   "source": [
    "The [DecisionTreeClassifier](http://spark.apache.org/docs/latest/api/python/pyspark.ml.html?highlight=decisiontreeclassifier#pyspark.ml.classification.DecisionTreeClassifier) implemented in PySpark has several parameters to tune. Some of them are\n",
    "\n",
    "> **maxDepth**: it corresponds to the maximum depth of the tree. The default is 5.<p>\n",
    "**maxBins**: it determines how many bins should be created from continuous features. The default is 32.<p>\n",
    "    **impurity**: it is the metric used to compute information gain. The options are \"gini\" or \"entropy\". The default is \"gini\".<p>\n",
    "        **minInfoGain**: it determines the minimum information gain that will be used for a split. The default is zero.\n"
   ]
  },
  {
   "cell_type": "code",
   "execution_count": 23,
   "metadata": {},
   "outputs": [],
   "source": [
    "from pyspark.ml.classification import DecisionTreeClassifier\n",
    "dt = DecisionTreeClassifier(labelCol=\"labels\", featuresCol=\"features\", maxDepth=10, impurity='entropy')\n",
    "model = dt.fit(trainingData)\n",
    "predictions = model.transform(testData)"
   ]
  },
  {
   "cell_type": "markdown",
   "metadata": {},
   "source": [
    "We finally use the [MulticlassClassificationEvaluator](http://spark.apache.org/docs/latest/api/python/pyspark.ml.html?highlight=multiclassclassificationevaluator#pyspark.ml.evaluation.MulticlassClassificationEvaluator) tool to assess the accuracy on the test set."
   ]
  },
  {
   "cell_type": "code",
   "execution_count": 24,
   "metadata": {},
   "outputs": [
    {
     "name": "stdout",
     "output_type": "stream",
     "text": [
      "Accuracy = 0.92371 \n"
     ]
    }
   ],
   "source": [
    "from pyspark.ml.evaluation import MulticlassClassificationEvaluator\n",
    "evaluator = MulticlassClassificationEvaluator\\\n",
    "      (labelCol=\"labels\", predictionCol=\"prediction\", metricName=\"accuracy\")\n",
    "accuracy = evaluator.evaluate(predictions)\n",
    "print(\"Accuracy = %g \" % accuracy)"
   ]
  },
  {
   "cell_type": "markdown",
   "metadata": {},
   "source": [
    "The individual importance of the features can be obtained using [featureImportances](http://spark.apache.org/docs/latest/api/python/pyspark.ml.html?highlight=featureimportances#pyspark.ml.classification.DecisionTreeClassificationModel.featureImportances). We can recover the values of importance and the indexes of the vector where these values are different from zero using values and indices"
   ]
  },
  {
   "cell_type": "code",
   "execution_count": 25,
   "metadata": {},
   "outputs": [],
   "source": [
    "fi = model.featureImportances"
   ]
  },
  {
   "cell_type": "code",
   "execution_count": 26,
   "metadata": {},
   "outputs": [],
   "source": [
    "imp_feat = np.zeros(ncolumns-1)\n",
    "imp_feat[fi.indices] = fi.values"
   ]
  },
  {
   "cell_type": "markdown",
   "metadata": {},
   "source": [
    "Let us plot the relative importances"
   ]
  },
  {
   "cell_type": "code",
   "execution_count": 27,
   "metadata": {
    "scrolled": true
   },
   "outputs": [
    {
     "data": {
      "text/plain": [
       "<Container object of 57 artists>"
      ]
     },
     "execution_count": 27,
     "metadata": {},
     "output_type": "execute_result"
    },
    {
     "data": {
      "image/png": "[encoded data removed]",
      "text/plain": [
       "<matplotlib.figure.Figure at 0x10e62d7b8>"
      ]
     },
     "metadata": {
      "needs_background": "light"
     },
     "output_type": "display_data"
    }
   ],
   "source": [
    "x = np.arange(ncolumns-1)\n",
    "plt.bar(x, imp_feat)"
   ]
  },
  {
   "cell_type": "markdown",
   "metadata": {},
   "source": [
    "The feature with the highest importance is "
   ]
  },
  {
   "cell_type": "code",
   "execution_count": 28,
   "metadata": {},
   "outputs": [
    {
     "data": {
      "text/plain": [
       "'char_freq_$'"
      ]
     },
     "execution_count": 28,
     "metadata": {},
     "output_type": "execute_result"
    }
   ],
   "source": [
    "spam_names[np.argmax(imp_feat)]"
   ]
  },
  {
   "cell_type": "markdown",
   "metadata": {},
   "source": [
    "We can visualise the DecisionTree in the form of *if-then-else* statements."
   ]
  },
  {
   "cell_type": "code",
   "execution_count": 29,
   "metadata": {},
   "outputs": [
    {
     "name": "stdout",
     "output_type": "stream",
     "text": [
      "DecisionTreeClassificationModel (uid=DecisionTreeClassifier_7ba0be1cca20) of depth 10 with 185 nodes\n",
      "  If (feature 52 <= 0.0525)\n",
      "   If (feature 6 <= 0.055)\n",
      "    If (feature 51 <= 0.3805)\n",
      "     If (feature 26 <= 0.005)\n",
      "      If (feature 15 <= 0.025)\n",
      "       If (feature 23 <= 0.01)\n",
      "        If (feature 24 <= 0.01)\n",
      "         If (feature 56 <= 28.5)\n",
      "          If (feature 7 <= 0.005)\n",
      "           Predict: 0.0\n",
      "          Else (feature 7 > 0.005)\n",
      "           If (feature 20 <= 0.01)\n",
      "            Predict: 0.0\n",
      "           Else (feature 20 > 0.01)\n",
      "            Predict: 1.0\n",
      "         Else (feature 56 > 28.5)\n",
      "          If (feature 4 <= 1.835)\n",
      "           Predict: 0.0\n",
      "          Else (feature 4 > 1.835)\n",
      "           If (feature 35 <= 0.005)\n",
      "            Predict: 1.0\n",
      "           Else (feature 35 > 0.005)\n",
      "            Predict: 0.0\n",
      "        Else (feature 24 > 0.01)\n",
      "         If (feature 10 <= 0.295)\n",
      "          Predict: 0.0\n",
      "         Else (feature 10 > 0.295)\n",
      "          If (feature 20 <= 0.515)\n",
      "           Predict: 0.0\n",
      "          Else (feature 20 > 0.515)\n",
      "           If (feature 1 <= 0.005)\n",
      "            Predict: 0.0\n",
      "           Else (feature 1 > 0.005)\n",
      "            Predict: 1.0\n",
      "       Else (feature 23 > 0.01)\n",
      "        If (feature 44 <= 0.385)\n",
      "         If (feature 24 <= 0.01)\n",
      "          If (feature 18 <= 5.535)\n",
      "           Predict: 1.0\n",
      "          Else (feature 18 > 5.535)\n",
      "           If (feature 20 <= 0.01)\n",
      "            Predict: 1.0\n",
      "           Else (feature 20 > 0.01)\n",
      "            Predict: 0.0\n",
      "         Else (feature 24 > 0.01)\n",
      "          Predict: 0.0\n",
      "        Else (feature 44 > 0.385)\n",
      "         Predict: 0.0\n",
      "      Else (feature 15 > 0.025)\n",
      "       If (feature 24 <= 0.025)\n",
      "        If (feature 4 <= 0.01)\n",
      "         If (feature 45 <= 0.015)\n",
      "          If (feature 55 <= 43.5)\n",
      "           If (feature 55 <= 6.5)\n",
      "            Predict: 0.0\n",
      "           Else (feature 55 > 6.5)\n",
      "            Predict: 1.0\n",
      "          Else (feature 55 > 43.5)\n",
      "           If (feature 9 <= 0.015)\n",
      "            Predict: 0.0\n",
      "           Else (feature 9 > 0.015)\n",
      "            Predict: 1.0\n",
      "         Else (feature 45 > 0.015)\n",
      "          If (feature 27 <= 0.01)\n",
      "           Predict: 0.0\n",
      "          Else (feature 27 > 0.01)\n",
      "           Predict: 1.0\n",
      "        Else (feature 4 > 0.01)\n",
      "         If (feature 0 <= 0.175)\n",
      "          If (feature 12 <= 0.545)\n",
      "           If (feature 40 <= 0.01)\n",
      "            Predict: 1.0\n",
      "           Else (feature 40 > 0.01)\n",
      "            Predict: 0.0\n",
      "          Else (feature 12 > 0.545)\n",
      "           Predict: 0.0\n",
      "         Else (feature 0 > 0.175)\n",
      "          Predict: 0.0\n",
      "       Else (feature 24 > 0.025)\n",
      "        If (feature 11 <= 0.10500000000000001)\n",
      "         If (feature 18 <= 0.605)\n",
      "          Predict: 1.0\n",
      "         Else (feature 18 > 0.605)\n",
      "          If (feature 18 <= 1.9449999999999998)\n",
      "           Predict: 0.0\n",
      "          Else (feature 18 > 1.9449999999999998)\n",
      "           Predict: 1.0\n",
      "        Else (feature 11 > 0.10500000000000001)\n",
      "         Predict: 0.0\n",
      "     Else (feature 26 > 0.005)\n",
      "      Predict: 0.0\n",
      "    Else (feature 51 > 0.3805)\n",
      "     If (feature 56 <= 52.5)\n",
      "      If (feature 15 <= 0.615)\n",
      "       If (feature 51 <= 0.9974999999999999)\n",
      "        If (feature 54 <= 3.701)\n",
      "         If (feature 23 <= 0.01)\n",
      "          Predict: 0.0\n",
      "         Else (feature 23 > 0.01)\n",
      "          Predict: 1.0\n",
      "        Else (feature 54 > 3.701)\n",
      "         Predict: 1.0\n",
      "       Else (feature 51 > 0.9974999999999999)\n",
      "        If (feature 45 <= 0.015)\n",
      "         If (feature 56 <= 17.5)\n",
      "          If (feature 18 <= 1.645)\n",
      "           Predict: 0.0\n",
      "          Else (feature 18 > 1.645)\n",
      "           If (feature 55 <= 3.5)\n",
      "            Predict: 0.0\n",
      "           Else (feature 55 > 3.5)\n",
      "            Predict: 1.0\n",
      "         Else (feature 56 > 17.5)\n",
      "          If (feature 11 <= 1.3250000000000002)\n",
      "           If (feature 24 <= 0.01)\n",
      "            Predict: 1.0\n",
      "           Else (feature 24 > 0.01)\n",
      "            Predict: 0.0\n",
      "          Else (feature 11 > 1.3250000000000002)\n",
      "           Predict: 0.0\n",
      "        Else (feature 45 > 0.015)\n",
      "         Predict: 0.0\n",
      "      Else (feature 15 > 0.615)\n",
      "       If (feature 8 <= 0.005)\n",
      "        Predict: 1.0\n",
      "       Else (feature 8 > 0.005)\n",
      "        Predict: 0.0\n",
      "     Else (feature 56 > 52.5)\n",
      "      If (feature 45 <= 0.015)\n",
      "       If (feature 51 <= 0.7745)\n",
      "        If (feature 24 <= 0.01)\n",
      "         If (feature 44 <= 0.675)\n",
      "          If (feature 18 <= 4.525)\n",
      "           Predict: 1.0\n",
      "          Else (feature 18 > 4.525)\n",
      "           Predict: 0.0\n",
      "         Else (feature 44 > 0.675)\n",
      "          Predict: 0.0\n",
      "        Else (feature 24 > 0.01)\n",
      "         Predict: 0.0\n",
      "       Else (feature 51 > 0.7745)\n",
      "        If (feature 55 <= 4.5)\n",
      "         Predict: 0.0\n",
      "        Else (feature 55 > 4.5)\n",
      "         If (feature 9 <= 0.675)\n",
      "          Predict: 1.0\n",
      "         Else (feature 9 > 0.675)\n",
      "          If (feature 0 <= 0.005)\n",
      "           Predict: 1.0\n",
      "          Else (feature 0 > 0.005)\n",
      "           Predict: 0.0\n",
      "      Else (feature 45 > 0.015)\n",
      "       Predict: 0.0\n",
      "   Else (feature 6 > 0.055)\n",
      "    If (feature 26 <= 0.005)\n",
      "     If (feature 45 <= 0.015)\n",
      "      If (feature 29 <= 0.185)\n",
      "       If (feature 15 <= 0.005)\n",
      "        If (feature 20 <= 0.375)\n",
      "         If (feature 55 <= 12.5)\n",
      "          If (feature 18 <= 0.845)\n",
      "           Predict: 1.0\n",
      "          Else (feature 18 > 0.845)\n",
      "           If (feature 10 <= 0.14500000000000002)\n",
      "            Predict: 0.0\n",
      "           Else (feature 10 > 0.14500000000000002)\n",
      "            Predict: 1.0\n",
      "         Else (feature 55 > 12.5)\n",
      "          If (feature 44 <= 0.535)\n",
      "           Predict: 1.0\n",
      "          Else (feature 44 > 0.535)\n",
      "           Predict: 0.0\n",
      "        Else (feature 20 > 0.375)\n",
      "         If (feature 24 <= 0.265)\n",
      "          Predict: 1.0\n",
      "         Else (feature 24 > 0.265)\n",
      "          Predict: 0.0\n",
      "       Else (feature 15 > 0.005)\n",
      "        Predict: 1.0\n",
      "      Else (feature 29 > 0.185)\n",
      "       Predict: 0.0\n",
      "     Else (feature 45 > 0.015)\n",
      "      If (feature 4 <= 0.685)\n",
      "       Predict: 0.0\n",
      "      Else (feature 4 > 0.685)\n",
      "       Predict: 1.0\n",
      "    Else (feature 26 > 0.005)\n",
      "     Predict: 0.0\n",
      "  Else (feature 52 > 0.0525)\n",
      "   If (feature 24 <= 0.175)\n",
      "    If (feature 54 <= 2.339)\n",
      "     If (feature 6 <= 0.01)\n",
      "      If (feature 55 <= 7.5)\n",
      "       If (feature 18 <= 4.525)\n",
      "        Predict: 0.0\n",
      "       Else (feature 18 > 4.525)\n",
      "        If (feature 17 <= 0.005)\n",
      "         Predict: 0.0\n",
      "        Else (feature 17 > 0.005)\n",
      "         Predict: 1.0\n",
      "      Else (feature 55 > 7.5)\n",
      "       If (feature 20 <= 0.515)\n",
      "        If (feature 7 <= 0.005)\n",
      "         If (feature 9 <= 0.675)\n",
      "          If (feature 55 <= 15.5)\n",
      "           Predict: 0.0\n",
      "          Else (feature 55 > 15.5)\n",
      "           If (feature 11 <= 0.615)\n",
      "            Predict: 1.0\n",
      "           Else (feature 11 > 0.615)\n",
      "            Predict: 0.0\n",
      "         Else (feature 9 > 0.675)\n",
      "          Predict: 1.0\n",
      "        Else (feature 7 > 0.005)\n",
      "         If (feature 5 <= 0.005)\n",
      "          Predict: 1.0\n",
      "         Else (feature 5 > 0.005)\n",
      "          Predict: 0.0\n",
      "       Else (feature 20 > 0.515)\n",
      "        If (feature 1 <= 0.065)\n",
      "         If (feature 55 <= 9.5)\n",
      "          Predict: 0.0\n",
      "         Else (feature 55 > 9.5)\n",
      "          Predict: 1.0\n",
      "        Else (feature 1 > 0.065)\n",
      "         If (feature 44 <= 0.005)\n",
      "          If (feature 45 <= 0.015)\n",
      "           Predict: 1.0\n",
      "          Else (feature 45 > 0.015)\n",
      "           Predict: 0.0\n",
      "         Else (feature 44 > 0.005)\n",
      "          If (feature 4 <= 0.305)\n",
      "           Predict: 0.0\n",
      "          Else (feature 4 > 0.305)\n",
      "           Predict: 1.0\n",
      "     Else (feature 6 > 0.01)\n",
      "      If (feature 45 <= 0.015)\n",
      "       Predict: 1.0\n",
      "      Else (feature 45 > 0.015)\n",
      "       Predict: 0.0\n",
      "    Else (feature 54 > 2.339)\n",
      "     If (feature 45 <= 0.335)\n",
      "      If (feature 49 <= 0.646)\n",
      "       If (feature 54 <= 2.9939999999999998)\n",
      "        If (feature 10 <= 0.20500000000000002)\n",
      "         Predict: 1.0\n",
      "        Else (feature 10 > 0.20500000000000002)\n",
      "         If (feature 56 <= 187.5)\n",
      "          Predict: 1.0\n",
      "         Else (feature 56 > 187.5)\n",
      "          If (feature 49 <= 0.0365)\n",
      "           Predict: 0.0\n",
      "          Else (feature 49 > 0.0365)\n",
      "           Predict: 1.0\n",
      "       Else (feature 54 > 2.9939999999999998)\n",
      "        Predict: 1.0\n",
      "      Else (feature 49 > 0.646)\n",
      "       If (feature 54 <= 4.894)\n",
      "        Predict: 0.0\n",
      "       Else (feature 54 > 4.894)\n",
      "        Predict: 1.0\n",
      "     Else (feature 45 > 0.335)\n",
      "      If (feature 0 <= 0.135)\n",
      "       Predict: 0.0\n",
      "      Else (feature 0 > 0.135)\n",
      "       Predict: 1.0\n",
      "   Else (feature 24 > 0.175)\n",
      "    If (feature 51 <= 0.4395)\n",
      "     If (feature 53 <= 0.1175)\n",
      "      Predict: 0.0\n",
      "     Else (feature 53 > 0.1175)\n",
      "      If (feature 4 <= 1.0550000000000002)\n",
      "       Predict: 1.0\n",
      "      Else (feature 4 > 1.0550000000000002)\n",
      "       Predict: 0.0\n",
      "    Else (feature 51 > 0.4395)\n",
      "     Predict: 1.0\n",
      "\n"
     ]
    }
   ],
   "source": [
    "print(model.toDebugString)"
   ]
  },
  {
   "cell_type": "markdown",
   "metadata": {},
   "source": [
    "A better visualisation can be obtained by using, for example, [spark-tree-plotting](https://github.com/julioasotodv/spark-tree-plotting). The trick is to convert the spark tree to a JSON format. Once you have the JSON format, you can visualise it using [D3](https://d3js.org/) or you can transform from JSON to DOT and use graphviz as we did in scickit-learn. Are you able to generate a nicer visualisation of the tree?"
   ]
  },
  {
   "cell_type": "markdown",
   "metadata": {},
   "source": [
    "### Question 2\n",
    "\n",
    "Modify the program above to run the decision tree as part of a pipeline (see [Notebook 2](https://github.com/haipinglu/ScalableML/blob/master/Lab%202%20-%20RDD%2C%20DataFrame%2C%20ML%20pipeline%2C%20and%20parallelization.ipynb) for a refresher on pipelines). The pipeline model can be used to find the best set of parameters using cross validation. An example of a cross-validator can be found [here](http://spark.apache.org/docs/2.4.0/ml-tuning.html#cross-validation). In your case, make <tt>paramGrid</tt> contains different values for <tt>maxDepth</tt>, <tt>maxBins</tt> and <tt>impurity</tt> and find the best parameters and associated test error.\n",
    "\n",
    "### Question 3 \n",
    "\n",
    "Make the decision tree code a standalone program to run on HPC (see [Notebook 1](https://github.com/haipinglu/ScalableML/blob/master/Lab%201%20-%20Introduction%20to%20Spark%20and%20HPC.ipynb) for a refresher on how to run standalone programs in HPC or using the Notebook through Jupyter Hub).\n",
    "\n",
    "### Question 4 (optional)\n",
    "\n",
    "Create a decision tree classifier that runs on the [default of credit cards](http://archive.ics.uci.edu/ml/datasets/default+of+credit+card+clients) dataset. Several of the features in this dataset are categorical. Use the tools provided by PySpark (pyspark.ml.feature) for treating categorical variables. \n",
    "\n",
    "Note also that this dataset has a different format to the Spambase dataset above - you will need to convert from XLS format to, say, CSV, before using the data. You can use any available tool for this: for example, Excell has an export option, or there is a command line tool <tt>xls2csv</tt> available on Linux."
   ]
  }
 ],
 "metadata": {
  "anaconda-cloud": {},
  "kernelspec": {
   "display_name": "Python 3",
   "language": "python",
   "name": "python3"
  },
  "language_info": {
   "codemirror_mode": {
    "name": "ipython",
    "version": 3
   },
   "file_extension": ".py",
   "mimetype": "text/x-python",
   "name": "python",
   "nbconvert_exporter": "python",
   "pygments_lexer": "ipython3",
   "version": "3.6.8"
  }
 },
 "nbformat": 4,
 "nbformat_minor": 1
}
